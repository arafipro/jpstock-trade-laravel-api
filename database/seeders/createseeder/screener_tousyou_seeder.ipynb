{
 "cells": [
  {
   "attachments": {},
   "cell_type": "markdown",
   "metadata": {},
   "source": [
    "# SBI証券HP - 国内株式 - 銘柄スクリーニング\n",
    "\n",
    "CSVファイルからJSONファイルに変更\n",
    "\n",
    "- screener_tousyou_p.csv(東証プライム)\n",
    "- screener_tousyou_s.csv(東証スタンダート)\n",
    "- screener_tousyou_g.csv(東証グロース)\n",
    "\n",
    "ファイル名のp、s、gで市場を判定して自動で変換"
   ]
  },
  {
   "cell_type": "code",
   "execution_count": 34,
   "metadata": {},
   "outputs": [],
   "source": [
    "import pandas as pd\n",
    "import os"
   ]
  },
  {
   "cell_type": "code",
   "execution_count": 35,
   "metadata": {},
   "outputs": [],
   "source": [
    "csv_file = \"screener_tousyou_g.csv\""
   ]
  },
  {
   "cell_type": "code",
   "execution_count": 36,
   "metadata": {},
   "outputs": [],
   "source": [
    "json_file = os.path.splitext(csv_file)[0]"
   ]
  },
  {
   "cell_type": "code",
   "execution_count": 37,
   "metadata": {},
   "outputs": [],
   "source": [
    "market: int = 0\n",
    "if(json_file[-1] == \"p\"):\n",
    "    market = 1\n",
    "elif(json_file[-1] == \"s\"):\n",
    "    market = 2\n",
    "elif(json_file[-1] == \"g\"):\n",
    "    market = 3\n",
    "else:\n",
    "    \"non market\"\n",
    "market: str = str(market)"
   ]
  },
  {
   "cell_type": "code",
   "execution_count": 38,
   "metadata": {},
   "outputs": [],
   "source": [
    "df = pd.read_csv(csv_file)\n",
    "# df"
   ]
  },
  {
   "cell_type": "code",
   "execution_count": 39,
   "metadata": {},
   "outputs": [],
   "source": [
    "text: str = \"\"\n",
    "for i in range(len(df)-1):\n",
    "\t\ttext += \"DB::table('stocks')->insert(['code' => \" + df[\"コード\"][i] + \",'stockname' => '\"+df[\"銘柄名\"][i]+\"','market_id' => \"+market+\",]);\\n\"\n"
   ]
  },
  {
   "cell_type": "code",
   "execution_count": 40,
   "metadata": {},
   "outputs": [],
   "source": [
    "# ファイルを書き込みモードで開く\n",
    "with open(f\"{json_file}.txt\", \"w\") as f:\n",
    "    # データを書き込む\n",
    "    f.write(f\"[{text[:-1]}]\")"
   ]
  },
  {
   "cell_type": "code",
   "execution_count": null,
   "metadata": {},
   "outputs": [],
   "source": []
  }
 ],
 "metadata": {
  "kernelspec": {
   "display_name": ".venv",
   "language": "python",
   "name": "python3"
  },
  "language_info": {
   "codemirror_mode": {
    "name": "ipython",
    "version": 3
   },
   "file_extension": ".py",
   "mimetype": "text/x-python",
   "name": "python",
   "nbconvert_exporter": "python",
   "pygments_lexer": "ipython3",
   "version": "3.11.2"
  },
  "orig_nbformat": 4
 },
 "nbformat": 4,
 "nbformat_minor": 2
}
